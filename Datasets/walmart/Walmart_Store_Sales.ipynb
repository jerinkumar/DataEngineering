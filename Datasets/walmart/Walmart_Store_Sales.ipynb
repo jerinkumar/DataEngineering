{
 "cells": [
  {
   "cell_type": "code",
   "execution_count": 2,
   "id": "2b9e1d86-584e-4c53-a0a1-086e40444545",
   "metadata": {},
   "outputs": [],
   "source": [
    "import pandas as pd\n",
    "import numpy as np\n",
    "from datetime import datetime\n",
    "import warnings\n",
    "warnings.filterwarnings('ignore')"
   ]
  },
  {
   "cell_type": "code",
   "execution_count": 4,
   "id": "18e889b5-d8c6-4201-8969-0acafe82cb8d",
   "metadata": {},
   "outputs": [
    {
     "name": "stdout",
     "output_type": "stream",
     "text": [
      "   Store        Date  Weekly_Sales  Holiday_Flag  Temperature  Fuel_Price  \\\n",
      "0      1  05-02-2010    1643690.90             0        42.31       2.572   \n",
      "1      1  12-02-2010    1641957.44             1        38.51       2.548   \n",
      "2      1  19-02-2010    1611968.17             0        39.93       2.514   \n",
      "3      1  26-02-2010    1409727.59             0        46.63       2.561   \n",
      "4      1  05-03-2010    1554806.68             0        46.50       2.625   \n",
      "\n",
      "          CPI  Unemployment  \n",
      "0  211.096358         8.106  \n",
      "1  211.242170         8.106  \n",
      "2  211.289143         8.106  \n",
      "3  211.319643         8.106  \n",
      "4  211.350143         8.106  \n"
     ]
    }
   ],
   "source": [
    "df = pd.read_csv(\"D:\\Automation\\Data Cleaning\\Datasets\\walmart\\walmart.csv\")\n",
    "print(df.head())"
   ]
  },
  {
   "cell_type": "code",
   "execution_count": 6,
   "id": "319703d7-2151-4e25-b927-0a314aa7b4bc",
   "metadata": {},
   "outputs": [
    {
     "name": "stdout",
     "output_type": "stream",
     "text": [
      "<class 'pandas.core.frame.DataFrame'>\n",
      "RangeIndex: 6435 entries, 0 to 6434\n",
      "Data columns (total 8 columns):\n",
      " #   Column        Non-Null Count  Dtype  \n",
      "---  ------        --------------  -----  \n",
      " 0   Store         6435 non-null   int64  \n",
      " 1   Date          6435 non-null   object \n",
      " 2   Weekly_Sales  6435 non-null   float64\n",
      " 3   Holiday_Flag  6435 non-null   int64  \n",
      " 4   Temperature   6435 non-null   float64\n",
      " 5   Fuel_Price    6435 non-null   float64\n",
      " 6   CPI           6435 non-null   float64\n",
      " 7   Unemployment  6435 non-null   float64\n",
      "dtypes: float64(5), int64(2), object(1)\n",
      "memory usage: 402.3+ KB\n",
      "None\n"
     ]
    }
   ],
   "source": [
    "print(df.info())"
   ]
  },
  {
   "cell_type": "code",
   "execution_count": 7,
   "id": "f9a66f2e-b050-40bf-baf1-7fd6a2fa8e8f",
   "metadata": {},
   "outputs": [
    {
     "name": "stdout",
     "output_type": "stream",
     "text": [
      "(6435, 8)\n"
     ]
    }
   ],
   "source": [
    "print(df.shape)"
   ]
  },
  {
   "cell_type": "code",
   "execution_count": 8,
   "id": "c0153efa-913d-4714-988b-e0bd34dffb56",
   "metadata": {},
   "outputs": [
    {
     "name": "stdout",
     "output_type": "stream",
     "text": [
      "              Store        Date  Weekly_Sales  Holiday_Flag  Temperature  \\\n",
      "count   6435.000000        6435  6.435000e+03   6435.000000  6435.000000   \n",
      "unique          NaN         143           NaN           NaN          NaN   \n",
      "top             NaN  05-02-2010           NaN           NaN          NaN   \n",
      "freq            NaN          45           NaN           NaN          NaN   \n",
      "mean      23.000000         NaN  1.046965e+06      0.069930    60.663782   \n",
      "std       12.988182         NaN  5.643666e+05      0.255049    18.444933   \n",
      "min        1.000000         NaN  2.099862e+05      0.000000    -2.060000   \n",
      "25%       12.000000         NaN  5.533501e+05      0.000000    47.460000   \n",
      "50%       23.000000         NaN  9.607460e+05      0.000000    62.670000   \n",
      "75%       34.000000         NaN  1.420159e+06      0.000000    74.940000   \n",
      "max       45.000000         NaN  3.818686e+06      1.000000   100.140000   \n",
      "\n",
      "         Fuel_Price          CPI  Unemployment  \n",
      "count   6435.000000  6435.000000   6435.000000  \n",
      "unique          NaN          NaN           NaN  \n",
      "top             NaN          NaN           NaN  \n",
      "freq            NaN          NaN           NaN  \n",
      "mean       3.358607   171.578394      7.999151  \n",
      "std        0.459020    39.356712      1.875885  \n",
      "min        2.472000   126.064000      3.879000  \n",
      "25%        2.933000   131.735000      6.891000  \n",
      "50%        3.445000   182.616521      7.874000  \n",
      "75%        3.735000   212.743293      8.622000  \n",
      "max        4.468000   227.232807     14.313000  \n"
     ]
    }
   ],
   "source": [
    "print(df.describe(include='all'))"
   ]
  },
  {
   "cell_type": "code",
   "execution_count": 9,
   "id": "bee544de-95fc-475d-9035-e4943260de79",
   "metadata": {},
   "outputs": [
    {
     "name": "stdout",
     "output_type": "stream",
     "text": [
      "Store             int64\n",
      "Date             object\n",
      "Weekly_Sales    float64\n",
      "Holiday_Flag      int64\n",
      "Temperature     float64\n",
      "Fuel_Price      float64\n",
      "CPI             float64\n",
      "Unemployment    float64\n",
      "dtype: object\n"
     ]
    }
   ],
   "source": [
    "print(df.dtypes)"
   ]
  },
  {
   "cell_type": "code",
   "execution_count": 10,
   "id": "a14a7400-456d-4101-a9eb-a0308b398849",
   "metadata": {},
   "outputs": [],
   "source": [
    "# 2 Missing Data Assessment"
   ]
  },
  {
   "cell_type": "code",
   "execution_count": 12,
   "id": "cfb81749-43f7-4b87-9fa1-1f547fed8198",
   "metadata": {},
   "outputs": [
    {
     "data": {
      "text/plain": [
       "Store           0\n",
       "Date            0\n",
       "Weekly_Sales    0\n",
       "Holiday_Flag    0\n",
       "Temperature     0\n",
       "Fuel_Price      0\n",
       "CPI             0\n",
       "Unemployment    0\n",
       "dtype: int64"
      ]
     },
     "execution_count": 12,
     "metadata": {},
     "output_type": "execute_result"
    }
   ],
   "source": [
    "df.isnull().sum()"
   ]
  },
  {
   "cell_type": "code",
   "execution_count": 20,
   "id": "e2ed294e-41d9-4867-ab1e-579f2fe9f886",
   "metadata": {},
   "outputs": [
    {
     "name": "stdout",
     "output_type": "stream",
     "text": [
      "Empty strings 0\n",
      "Unknown strings 0\n"
     ]
    }
   ],
   "source": [
    "empty_count = (df['Date'] == '').sum()\n",
    "print(f\"Empty strings {empty_count}\")\n",
    "unknown_count = df['Date'].str.contains('unknown', case=False, na=False).sum()\n",
    "print(f\"Unknown strings {unknown_count}\")"
   ]
  },
  {
   "cell_type": "code",
   "execution_count": 33,
   "id": "d4e5816e-7cdb-4ad4-ab08-40a854748303",
   "metadata": {},
   "outputs": [],
   "source": [
    "df_clean = df.copy()"
   ]
  },
  {
   "cell_type": "code",
   "execution_count": null,
   "id": "cd3b5e93-804f-45a9-b081-2c7701d60541",
   "metadata": {},
   "outputs": [],
   "source": []
  },
  {
   "cell_type": "code",
   "execution_count": 34,
   "id": "8220fd7f-972a-4a30-8eeb-76f8736a757f",
   "metadata": {},
   "outputs": [],
   "source": [
    "def parse_date(date_str):\n",
    "    try:\n",
    "        for fmt in ['%d-%m-%Y', '%d/%m/%Y', '%d.%m.%Y']:\n",
    "            try:\n",
    "                return pd.to_datetime(date_str, format=fmt)\n",
    "            except:\n",
    "                return np.nan\n",
    "    except:\n",
    "        return np.nan"
   ]
  },
  {
   "cell_type": "code",
   "execution_count": 35,
   "id": "69c820f0-306e-44f1-908d-2af1f5192f29",
   "metadata": {},
   "outputs": [],
   "source": [
    "df_clean['Date'] = df_clean['Date'].apply(parse_date)"
   ]
  },
  {
   "cell_type": "code",
   "execution_count": 38,
   "id": "f2a5671a-df67-4933-b244-ce503e9fd5c2",
   "metadata": {},
   "outputs": [
    {
     "data": {
      "text/html": [
       "<div>\n",
       "<style scoped>\n",
       "    .dataframe tbody tr th:only-of-type {\n",
       "        vertical-align: middle;\n",
       "    }\n",
       "\n",
       "    .dataframe tbody tr th {\n",
       "        vertical-align: top;\n",
       "    }\n",
       "\n",
       "    .dataframe thead th {\n",
       "        text-align: right;\n",
       "    }\n",
       "</style>\n",
       "<table border=\"1\" class=\"dataframe\">\n",
       "  <thead>\n",
       "    <tr style=\"text-align: right;\">\n",
       "      <th></th>\n",
       "      <th>Store</th>\n",
       "      <th>Date</th>\n",
       "      <th>Weekly_Sales</th>\n",
       "      <th>Holiday_Flag</th>\n",
       "      <th>Temperature</th>\n",
       "      <th>Fuel_Price</th>\n",
       "      <th>CPI</th>\n",
       "      <th>Unemployment</th>\n",
       "    </tr>\n",
       "  </thead>\n",
       "  <tbody>\n",
       "    <tr>\n",
       "      <th>0</th>\n",
       "      <td>1</td>\n",
       "      <td>2010-02-05</td>\n",
       "      <td>1643690.90</td>\n",
       "      <td>0</td>\n",
       "      <td>42.31</td>\n",
       "      <td>2.572</td>\n",
       "      <td>211.096358</td>\n",
       "      <td>8.106</td>\n",
       "    </tr>\n",
       "    <tr>\n",
       "      <th>1</th>\n",
       "      <td>1</td>\n",
       "      <td>2010-02-12</td>\n",
       "      <td>1641957.44</td>\n",
       "      <td>1</td>\n",
       "      <td>38.51</td>\n",
       "      <td>2.548</td>\n",
       "      <td>211.242170</td>\n",
       "      <td>8.106</td>\n",
       "    </tr>\n",
       "    <tr>\n",
       "      <th>2</th>\n",
       "      <td>1</td>\n",
       "      <td>2010-02-19</td>\n",
       "      <td>1611968.17</td>\n",
       "      <td>0</td>\n",
       "      <td>39.93</td>\n",
       "      <td>2.514</td>\n",
       "      <td>211.289143</td>\n",
       "      <td>8.106</td>\n",
       "    </tr>\n",
       "    <tr>\n",
       "      <th>3</th>\n",
       "      <td>1</td>\n",
       "      <td>2010-02-26</td>\n",
       "      <td>1409727.59</td>\n",
       "      <td>0</td>\n",
       "      <td>46.63</td>\n",
       "      <td>2.561</td>\n",
       "      <td>211.319643</td>\n",
       "      <td>8.106</td>\n",
       "    </tr>\n",
       "    <tr>\n",
       "      <th>4</th>\n",
       "      <td>1</td>\n",
       "      <td>2010-03-05</td>\n",
       "      <td>1554806.68</td>\n",
       "      <td>0</td>\n",
       "      <td>46.50</td>\n",
       "      <td>2.625</td>\n",
       "      <td>211.350143</td>\n",
       "      <td>8.106</td>\n",
       "    </tr>\n",
       "  </tbody>\n",
       "</table>\n",
       "</div>"
      ],
      "text/plain": [
       "   Store       Date  Weekly_Sales  Holiday_Flag  Temperature  Fuel_Price  \\\n",
       "0      1 2010-02-05    1643690.90             0        42.31       2.572   \n",
       "1      1 2010-02-12    1641957.44             1        38.51       2.548   \n",
       "2      1 2010-02-19    1611968.17             0        39.93       2.514   \n",
       "3      1 2010-02-26    1409727.59             0        46.63       2.561   \n",
       "4      1 2010-03-05    1554806.68             0        46.50       2.625   \n",
       "\n",
       "          CPI  Unemployment  \n",
       "0  211.096358         8.106  \n",
       "1  211.242170         8.106  \n",
       "2  211.289143         8.106  \n",
       "3  211.319643         8.106  \n",
       "4  211.350143         8.106  "
      ]
     },
     "execution_count": 38,
     "metadata": {},
     "output_type": "execute_result"
    }
   ],
   "source": [
    "df_clean.head()"
   ]
  },
  {
   "cell_type": "code",
   "execution_count": 42,
   "id": "975f2fb1-fd27-43f5-9cef-c15d5af48328",
   "metadata": {},
   "outputs": [
    {
     "data": {
      "text/plain": [
       "Store                    int64\n",
       "Date            datetime64[ns]\n",
       "Weekly_Sales           float64\n",
       "Holiday_Flag             int64\n",
       "Temperature            float64\n",
       "Fuel_Price             float64\n",
       "CPI                    float64\n",
       "Unemployment           float64\n",
       "dtype: object"
      ]
     },
     "execution_count": 42,
     "metadata": {},
     "output_type": "execute_result"
    }
   ],
   "source": [
    "df_clean.dtypes"
   ]
  },
  {
   "cell_type": "code",
   "execution_count": 43,
   "id": "68213135-ea4f-4bc2-b476-191f15ca1255",
   "metadata": {},
   "outputs": [],
   "source": [
    "#IQR"
   ]
  },
  {
   "cell_type": "code",
   "execution_count": 51,
   "id": "25b60e22-8def-46bc-921b-455ed0051af3",
   "metadata": {},
   "outputs": [],
   "source": [
    "def iqr(col):\n",
    "    Q1 = df_clean[col].quantile(0.25)\n",
    "    Q3 = df_clean[col].quantile(0.75)\n",
    "    IQR = Q3 - Q1\n",
    "    lower_bound = Q1 - 1.5 * IQR\n",
    "    upper_bound = Q3 + 1.5 * IQR\n",
    "    number_of_outofbound_rows = (df[col] > upper_bound).sum()\n",
    "    return f\"{col} IQR bounds: [{lower_bound:.0f}, {upper_bound:.0f}, {number_of_outofbound_rows}]\""
   ]
  },
  {
   "cell_type": "code",
   "execution_count": 52,
   "id": "5cc657f3-f766-4807-beca-f66fd644dd94",
   "metadata": {},
   "outputs": [],
   "source": [
    "#Identify IQR for all the numerical columns"
   ]
  },
  {
   "cell_type": "code",
   "execution_count": 53,
   "id": "e64646a6-3909-4f6e-ad24-c918d9ab6288",
   "metadata": {},
   "outputs": [
    {
     "name": "stdout",
     "output_type": "stream",
     "text": [
      "Store IQR bounds: [-21, 67, 0]\n",
      "Weekly_Sales IQR bounds: [-746863, 2720371, 34]\n",
      "Holiday_Flag IQR bounds: [0, 0, 450]\n",
      "Temperature IQR bounds: [6, 116, 0]\n",
      "Fuel_Price IQR bounds: [2, 5, 0]\n",
      "CPI IQR bounds: [10, 334, 0]\n",
      "Unemployment IQR bounds: [4, 11, 378]\n"
     ]
    }
   ],
   "source": [
    "for col in df_clean.select_dtypes(include=['int64','float64']).columns:\n",
    "    print(iqr(col))"
   ]
  },
  {
   "cell_type": "code",
   "execution_count": 63,
   "id": "7542c59a-a043-4adc-ab64-6b2dcd9bdd9c",
   "metadata": {},
   "outputs": [
    {
     "data": {
      "text/plain": [
       "0       False\n",
       "1        True\n",
       "2       False\n",
       "3       False\n",
       "4       False\n",
       "        ...  \n",
       "6430    False\n",
       "6431    False\n",
       "6432    False\n",
       "6433    False\n",
       "6434    False\n",
       "Name: Holiday_Flag, Length: 6435, dtype: boolean"
      ]
     },
     "execution_count": 63,
     "metadata": {},
     "output_type": "execute_result"
    }
   ],
   "source": [
    "df_clean['Holiday_Flag'].astype('boolean')"
   ]
  },
  {
   "cell_type": "code",
   "execution_count": 67,
   "id": "5be3c53a-3907-48f9-ba0f-6dba5732e885",
   "metadata": {},
   "outputs": [],
   "source": [
    "df_clean.to_csv('D:\\Automation\\Data Cleaning\\Datasets\\walmart\\cleaned_walmart.csv', index=False)"
   ]
  },
  {
   "cell_type": "code",
   "execution_count": 65,
   "id": "45bd9362-1c5b-446a-91db-bb1a05a9b8d8",
   "metadata": {},
   "outputs": [
    {
     "data": {
      "text/plain": [
       "Store                    int64\n",
       "Date            datetime64[ns]\n",
       "Weekly_Sales           float64\n",
       "Holiday_Flag             int64\n",
       "Temperature            float64\n",
       "Fuel_Price             float64\n",
       "CPI                    float64\n",
       "Unemployment           float64\n",
       "dtype: object"
      ]
     },
     "execution_count": 65,
     "metadata": {},
     "output_type": "execute_result"
    }
   ],
   "source": [
    "df_clean.dtypes"
   ]
  },
  {
   "cell_type": "code",
   "execution_count": null,
   "id": "3cee1989-586f-448c-85c4-331a7d930631",
   "metadata": {},
   "outputs": [],
   "source": []
  }
 ],
 "metadata": {
  "kernelspec": {
   "display_name": "Python 3 (ipykernel)",
   "language": "python",
   "name": "python3"
  },
  "language_info": {
   "codemirror_mode": {
    "name": "ipython",
    "version": 3
   },
   "file_extension": ".py",
   "mimetype": "text/x-python",
   "name": "python",
   "nbconvert_exporter": "python",
   "pygments_lexer": "ipython3",
   "version": "3.12.4"
  }
 },
 "nbformat": 4,
 "nbformat_minor": 5
}
